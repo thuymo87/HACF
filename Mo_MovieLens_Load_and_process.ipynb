{
 "cells": [
  {
   "cell_type": "markdown",
   "metadata": {
    "colab_type": "text",
    "id": "Bw-4ccD7Tqrd"
   },
   "source": [
    "# Intro\n",
    "@Author: Tung Nguyen\n",
    "\n",
    "@Version: 1.2\n",
    "\n",
    "This lib is to handle movielens dataset for different deep learning model. Its main task is to create train, test, eval set from RATINGS \n",
    "\n",
    "## Esentially we convert dataframe to svm_light, libsvm, libfm format\n",
    "\n",
    "## And Negative sampling for rating with unified distrubution: 1+:2-\n",
    "\n",
    "\n"
   ]
  },
  {
   "cell_type": "markdown",
   "metadata": {
    "colab_type": "text",
    "id": "55JYsf-JRoiI"
   },
   "source": [
    "## Import section"
   ]
  },
  {
   "cell_type": "code",
   "execution_count": 1,
   "metadata": {
    "cellView": "both",
    "colab": {},
    "colab_type": "code",
    "id": "TLI39UUJRBoQ"
   },
   "outputs": [],
   "source": [
    "#@title\n",
    "from sklearn.datasets import dump_svmlight_file\n",
    "import numpy as np\n",
    "import pandas as pd\n",
    "import os\n",
    "import urllib\n",
    "import zipfile\n",
    "from sklearn.model_selection import train_test_split\n",
    "import shutil"
   ]
  },
  {
   "cell_type": "code",
   "execution_count": 2,
   "metadata": {
    "cellView": "both",
    "colab": {},
    "colab_type": "code",
    "id": "mj1majvNM3H_"
   },
   "outputs": [],
   "source": [
    "#@title\n",
    "datasets = {'ml100k':'http://files.grouplens.org/datasets/movielens/ml-100k.zip',\n",
    "            'ml20m':'http://files.grouplens.org/datasets/movielens/ml-20m.zip',\n",
    "            'mllatestsmall':'http://files.grouplens.org/datasets/movielens/ml-latest-small.zip',\n",
    "            'ml10m':'http://files.grouplens.org/datasets/movielens/ml-10m.zip',\n",
    "            'ml1m':'http://files.grouplens.org/datasets/movielens/ml-1m.zip'\n",
    "            }"
   ]
  },
  {
   "cell_type": "markdown",
   "metadata": {
    "colab_type": "text",
    "id": "amJadjr_SUyL"
   },
   "source": [
    "# Select dataset to process\n",
    "\n",
    "## Note: you need to type in your dataset in the input box"
   ]
  },
  {
   "cell_type": "code",
   "execution_count": 3,
   "metadata": {
    "colab": {
     "base_uri": "https://localhost:8080/",
     "height": 67
    },
    "colab_type": "code",
    "id": "rQsKDMEHSl4K",
    "outputId": "4b36d571-20b7-4e53-a100-96b2d255e3c0"
   },
   "outputs": [
    {
     "name": "stdout",
     "output_type": "stream",
     "text": [
      "Available datasets:  ['ml100k', 'ml20m', 'mllatestsmall', 'ml10m', 'ml1m']\n",
      "Dataset name = ml100k\n",
      "You selected ml100k\n"
     ]
    }
   ],
   "source": [
    "print('Available datasets: ', [key for key in datasets])\n",
    "dt = input('Dataset name = ')\n",
    "print('You selected {}'.format(dt))"
   ]
  },
  {
   "cell_type": "code",
   "execution_count": 7,
   "metadata": {},
   "outputs": [],
   "source": [
    "dt_dir_name ='C:/Users/thinguyen/Desktop/PhD_2020/Python Code/GNN/Movielens_reprocessing/ml-100k'"
   ]
  },
  {
   "cell_type": "markdown",
   "metadata": {
    "colab_type": "text",
    "id": "rjyKlfwqTnZd"
   },
   "source": [
    "## Download and extract"
   ]
  },
  {
   "cell_type": "code",
   "execution_count": 4,
   "metadata": {
    "colab": {
     "base_uri": "https://localhost:8080/",
     "height": 50
    },
    "colab_type": "code",
    "id": "zaQEgINMSqWw",
    "outputId": "2b5c5656-821c-4ef4-d165-056985ae51a2"
   },
   "outputs": [
    {
     "name": "stdout",
     "output_type": "stream",
     "text": [
      "Downloading ml-100k.zip\n",
      "Download completed\n"
     ]
    }
   ],
   "source": [
    "# Download the file from `url` and save it locally under `file_name`:\n",
    "dt_name = os.path.basename(datasets[dt])\n",
    "\n",
    "print('Downloading {}'.format(dt_name))\n",
    "with urllib.request.urlopen(datasets[dt]) as response, open('C:/Users/thinguyen/Desktop/PhD_2020/Python Code/GNN/Movielens_reprocessing/'+dt_name, 'wb') as out_file:\n",
    "    shutil.copyfileobj(response, out_file)\n",
    "print('Download completed')"
   ]
  },
  {
   "cell_type": "code",
   "execution_count": 0,
   "metadata": {
    "colab": {},
    "colab_type": "code",
    "id": "QMDFS63bV9Da"
   },
   "outputs": [],
   "source": [
    "with zipfile.ZipFile('./sample_data/'+dt_name, 'r') as zip_ref:\n",
    "    zip_ref.extractall('./sample_data/')\n",
    "dt_dir_name = os.path.splitext(dt_name)[0]"
   ]
  },
  {
   "cell_type": "code",
   "execution_count": 0,
   "metadata": {
    "colab": {
     "base_uri": "https://localhost:8080/",
     "height": 34
    },
    "colab_type": "code",
    "id": "JpKWj0oHWs7x",
    "outputId": "a5f3c55e-fa2a-4ad4-8dab-a32b970bf320"
   },
   "outputs": [
    {
     "name": "stdout",
     "output_type": "stream",
     "text": [
      "./sample_data/ml-1m\n"
     ]
    }
   ],
   "source": [
    "#Check unzipped structure\n",
    "def list_files(startpath):\n",
    "    print(startpath)\n",
    "    for root, dirs, files in os.walk(startpath):\n",
    "        level = root.replace(startpath, '').count(os.sep)\n",
    "        indent = ' ' * 4 * (level)\n",
    "        print('{}{}/'.format(indent, os.path.basename(root)))\n",
    "        subindent = ' ' * 4 * (level + 1)\n",
    "        for f in files:\n",
    "            print('{}{}'.format(subindent, f))\n",
    "dirs = [x[0] for x in os.walk(\"./sample_data\")]\n",
    "#print(list(dirs[0]))\n",
    "ml = filter(lambda dirName: dirName if ('ml' in dirName) else '', list(dirs))\n",
    "dt_dir_name= list(ml)[0]\n",
    "print(dt_dir_name)\n",
    "#list_files('./sample_data/'+dt_dir_name +'/')"
   ]
  },
  {
   "cell_type": "markdown",
   "metadata": {
    "colab_type": "text",
    "id": "zkVx0Fq1fDg0"
   },
   "source": [
    "## Manual section\n",
    "\n",
    "You may need to select the data file to check the format"
   ]
  },
  {
   "cell_type": "code",
   "execution_count": 8,
   "metadata": {
    "colab": {
     "base_uri": "https://localhost:8080/",
     "height": 70
    },
    "colab_type": "code",
    "id": "ZqQ9tM2CW37u",
    "outputId": "4340bca8-eb4f-4581-aeda-8bd172f7e90a"
   },
   "outputs": [],
   "source": [
    "# lets explore movies.csv\n",
    "if dt=='ml100k':\n",
    "  rdata= pd.read_csv(dt_dir_name +'/'+ 'u.data', delimiter='\\t', names=['userId', 'movieId', 'rating', 'timestamp'])\n",
    "  usrdata= pd.read_csv(dt_dir_name +'/'+ 'u.user', delimiter='|', names=['user id', 'age' ,'gender' ,'occupation' , 'zip code'])\n",
    "  rdata.shape\n",
    "elif dt=='mllatestsmall':\n",
    "  rdata=pd.read_csv(dt_dir_name +'/'+ 'ratings.csv')#, delimiter='\\t'), names=['userid', 'movieId', 'rating', 'timestamp'])  \n",
    "  tagdata=pd.read_csv(dt_dir_name +'/'+ 'tags.csv')\n",
    "  rdata.shape\n",
    "elif dt=='ml1m':\n",
    "  rdata=pd.read_csv(dt_dir_name +'/'+ 'ratings.dat', delimiter='\\:\\:', names=['userId', 'movieId', 'rating', 'timestamp'])  \n",
    "  \n",
    "elif dt=='ml20m':\n",
    "  rdata=pd.read_csv(dt_dir_name +'/'+ 'ratings.csv')#, delimiter=',', names=['userid', 'movieId', 'rating', 'timestamp'])  \n",
    "  tagdata=pd.read_csv(dt_dir_name +'/'+ 'tags.csv')\n",
    "elif dt=='ml10m':\n",
    "  rdata=pd.read_csv(dt_dir_name +'/'+ 'ratings.dat', delimiter='\\:\\:', names=['userId', 'movieId', 'rating', 'timestamp'])"
   ]
  },
  {
   "cell_type": "markdown",
   "metadata": {
    "colab_type": "text",
    "id": "KgDBrE0IS7qE"
   },
   "source": [
    "#Optional: Check rating data\n",
    "\n"
   ]
  },
  {
   "cell_type": "code",
   "execution_count": 9,
   "metadata": {
    "colab": {
     "base_uri": "https://localhost:8080/",
     "height": 195
    },
    "colab_type": "code",
    "id": "v0itWnnsfz9N",
    "outputId": "51cfc16f-4c61-40ac-d4d5-185b62e6b42a"
   },
   "outputs": [
    {
     "data": {
      "text/html": [
       "<div>\n",
       "<style scoped>\n",
       "    .dataframe tbody tr th:only-of-type {\n",
       "        vertical-align: middle;\n",
       "    }\n",
       "\n",
       "    .dataframe tbody tr th {\n",
       "        vertical-align: top;\n",
       "    }\n",
       "\n",
       "    .dataframe thead th {\n",
       "        text-align: right;\n",
       "    }\n",
       "</style>\n",
       "<table border=\"1\" class=\"dataframe\">\n",
       "  <thead>\n",
       "    <tr style=\"text-align: right;\">\n",
       "      <th></th>\n",
       "      <th>userId</th>\n",
       "      <th>movieId</th>\n",
       "      <th>rating</th>\n",
       "      <th>timestamp</th>\n",
       "    </tr>\n",
       "  </thead>\n",
       "  <tbody>\n",
       "    <tr>\n",
       "      <th>0</th>\n",
       "      <td>196</td>\n",
       "      <td>242</td>\n",
       "      <td>3</td>\n",
       "      <td>881250949</td>\n",
       "    </tr>\n",
       "    <tr>\n",
       "      <th>1</th>\n",
       "      <td>186</td>\n",
       "      <td>302</td>\n",
       "      <td>3</td>\n",
       "      <td>891717742</td>\n",
       "    </tr>\n",
       "    <tr>\n",
       "      <th>2</th>\n",
       "      <td>22</td>\n",
       "      <td>377</td>\n",
       "      <td>1</td>\n",
       "      <td>878887116</td>\n",
       "    </tr>\n",
       "    <tr>\n",
       "      <th>3</th>\n",
       "      <td>244</td>\n",
       "      <td>51</td>\n",
       "      <td>2</td>\n",
       "      <td>880606923</td>\n",
       "    </tr>\n",
       "    <tr>\n",
       "      <th>4</th>\n",
       "      <td>166</td>\n",
       "      <td>346</td>\n",
       "      <td>1</td>\n",
       "      <td>886397596</td>\n",
       "    </tr>\n",
       "  </tbody>\n",
       "</table>\n",
       "</div>"
      ],
      "text/plain": [
       "   userId  movieId  rating  timestamp\n",
       "0     196      242       3  881250949\n",
       "1     186      302       3  891717742\n",
       "2      22      377       1  878887116\n",
       "3     244       51       2  880606923\n",
       "4     166      346       1  886397596"
      ]
     },
     "execution_count": 9,
     "metadata": {},
     "output_type": "execute_result"
    }
   ],
   "source": [
    "rdata.head()"
   ]
  },
  {
   "cell_type": "code",
   "execution_count": 10,
   "metadata": {
    "colab": {
     "base_uri": "https://localhost:8080/",
     "height": 168
    },
    "colab_type": "code",
    "id": "hOr5UmZIkgh4",
    "outputId": "1079d0e4-792f-4860-f0f4-084b2a909a48"
   },
   "outputs": [
    {
     "name": "stdout",
     "output_type": "stream",
     "text": [
      "<class 'pandas.core.frame.DataFrame'>\n",
      "RangeIndex: 100000 entries, 0 to 99999\n",
      "Data columns (total 4 columns):\n",
      "userId       100000 non-null int64\n",
      "movieId      100000 non-null int64\n",
      "rating       100000 non-null int64\n",
      "timestamp    100000 non-null int64\n",
      "dtypes: int64(4)\n",
      "memory usage: 3.1 MB\n"
     ]
    }
   ],
   "source": [
    "rdata.info()"
   ]
  },
  {
   "cell_type": "code",
   "execution_count": 11,
   "metadata": {
    "colab": {
     "base_uri": "https://localhost:8080/",
     "height": 101
    },
    "colab_type": "code",
    "id": "ZRfwNgpdkvgz",
    "outputId": "d464b27a-e6ee-40db-df7c-632de1589d44"
   },
   "outputs": [
    {
     "data": {
      "text/plain": [
       "userId       False\n",
       "movieId      False\n",
       "rating       False\n",
       "timestamp    False\n",
       "dtype: bool"
      ]
     },
     "execution_count": 11,
     "metadata": {},
     "output_type": "execute_result"
    }
   ],
   "source": [
    "#is any row null\n",
    "rdata.isnull().any()"
   ]
  },
  {
   "cell_type": "markdown",
   "metadata": {
    "colab_type": "text",
    "id": "Nq22QWoATFlZ"
   },
   "source": [
    "## Check user data"
   ]
  },
  {
   "cell_type": "code",
   "execution_count": 12,
   "metadata": {
    "colab": {
     "base_uri": "https://localhost:8080/",
     "height": 162
    },
    "colab_type": "code",
    "id": "ExqaK5ipTb3i",
    "outputId": "00cc095a-a0ea-4fde-db64-7a4b8f6bd0f7"
   },
   "outputs": [
    {
     "data": {
      "text/html": [
       "<div>\n",
       "<style scoped>\n",
       "    .dataframe tbody tr th:only-of-type {\n",
       "        vertical-align: middle;\n",
       "    }\n",
       "\n",
       "    .dataframe tbody tr th {\n",
       "        vertical-align: top;\n",
       "    }\n",
       "\n",
       "    .dataframe thead th {\n",
       "        text-align: right;\n",
       "    }\n",
       "</style>\n",
       "<table border=\"1\" class=\"dataframe\">\n",
       "  <thead>\n",
       "    <tr style=\"text-align: right;\">\n",
       "      <th></th>\n",
       "      <th>user id</th>\n",
       "      <th>age</th>\n",
       "      <th>gender</th>\n",
       "      <th>occupation</th>\n",
       "      <th>zip code</th>\n",
       "    </tr>\n",
       "  </thead>\n",
       "  <tbody>\n",
       "    <tr>\n",
       "      <th>0</th>\n",
       "      <td>1</td>\n",
       "      <td>24</td>\n",
       "      <td>M</td>\n",
       "      <td>technician</td>\n",
       "      <td>85711</td>\n",
       "    </tr>\n",
       "    <tr>\n",
       "      <th>1</th>\n",
       "      <td>2</td>\n",
       "      <td>53</td>\n",
       "      <td>F</td>\n",
       "      <td>other</td>\n",
       "      <td>94043</td>\n",
       "    </tr>\n",
       "    <tr>\n",
       "      <th>2</th>\n",
       "      <td>3</td>\n",
       "      <td>23</td>\n",
       "      <td>M</td>\n",
       "      <td>writer</td>\n",
       "      <td>32067</td>\n",
       "    </tr>\n",
       "    <tr>\n",
       "      <th>3</th>\n",
       "      <td>4</td>\n",
       "      <td>24</td>\n",
       "      <td>M</td>\n",
       "      <td>technician</td>\n",
       "      <td>43537</td>\n",
       "    </tr>\n",
       "    <tr>\n",
       "      <th>4</th>\n",
       "      <td>5</td>\n",
       "      <td>33</td>\n",
       "      <td>F</td>\n",
       "      <td>other</td>\n",
       "      <td>15213</td>\n",
       "    </tr>\n",
       "  </tbody>\n",
       "</table>\n",
       "</div>"
      ],
      "text/plain": [
       "   user id  age gender  occupation zip code\n",
       "0        1   24      M  technician    85711\n",
       "1        2   53      F       other    94043\n",
       "2        3   23      M      writer    32067\n",
       "3        4   24      M  technician    43537\n",
       "4        5   33      F       other    15213"
      ]
     },
     "execution_count": 12,
     "metadata": {},
     "output_type": "execute_result"
    }
   ],
   "source": [
    "usrdata.head()"
   ]
  },
  {
   "cell_type": "code",
   "execution_count": 13,
   "metadata": {
    "colab": {
     "base_uri": "https://localhost:8080/",
     "height": 118
    },
    "colab_type": "code",
    "id": "VTZWSRgZUpG-",
    "outputId": "5d1ee043-2d0d-4df7-9a5e-7b2ac30f7fa6"
   },
   "outputs": [
    {
     "data": {
      "text/plain": [
       "user id       False\n",
       "age           False\n",
       "gender        False\n",
       "occupation    False\n",
       "zip code      False\n",
       "dtype: bool"
      ]
     },
     "execution_count": 13,
     "metadata": {},
     "output_type": "execute_result"
    }
   ],
   "source": [
    "usrdata.isnull().any()"
   ]
  },
  {
   "cell_type": "markdown",
   "metadata": {
    "colab_type": "text",
    "id": "eMMwnjeIU2XQ"
   },
   "source": [
    "## Check tag data\n",
    "\n",
    "If available (latest)"
   ]
  },
  {
   "cell_type": "code",
   "execution_count": 14,
   "metadata": {
    "colab": {
     "base_uri": "https://localhost:8080/",
     "height": 162
    },
    "colab_type": "code",
    "id": "Wj1VkCq8U0xy",
    "outputId": "328a4247-e8cf-4b69-b9b0-4b0846863b2c"
   },
   "outputs": [
    {
     "ename": "NameError",
     "evalue": "name 'tagdata' is not defined",
     "output_type": "error",
     "traceback": [
      "\u001b[1;31m---------------------------------------------------------------------------\u001b[0m",
      "\u001b[1;31mNameError\u001b[0m                                 Traceback (most recent call last)",
      "\u001b[1;32m<ipython-input-14-86e9102d7873>\u001b[0m in \u001b[0;36m<module>\u001b[1;34m\u001b[0m\n\u001b[1;32m----> 1\u001b[1;33m \u001b[0mtagdata\u001b[0m\u001b[1;33m.\u001b[0m\u001b[0mhead\u001b[0m\u001b[1;33m(\u001b[0m\u001b[1;33m)\u001b[0m\u001b[1;33m\u001b[0m\u001b[1;33m\u001b[0m\u001b[0m\n\u001b[0m",
      "\u001b[1;31mNameError\u001b[0m: name 'tagdata' is not defined"
     ]
    }
   ],
   "source": [
    "tagdata.head()"
   ]
  },
  {
   "cell_type": "code",
   "execution_count": 15,
   "metadata": {
    "colab": {
     "base_uri": "https://localhost:8080/",
     "height": 101
    },
    "colab_type": "code",
    "id": "tF5pj4osYpoH",
    "outputId": "55907f85-ac46-4d7c-d10c-582c5ffa4075"
   },
   "outputs": [
    {
     "ename": "NameError",
     "evalue": "name 'tagdata' is not defined",
     "output_type": "error",
     "traceback": [
      "\u001b[1;31m---------------------------------------------------------------------------\u001b[0m",
      "\u001b[1;31mNameError\u001b[0m                                 Traceback (most recent call last)",
      "\u001b[1;32m<ipython-input-15-494a6f4700b2>\u001b[0m in \u001b[0;36m<module>\u001b[1;34m\u001b[0m\n\u001b[1;32m----> 1\u001b[1;33m \u001b[0mtagdata\u001b[0m\u001b[1;33m.\u001b[0m\u001b[0misnull\u001b[0m\u001b[1;33m(\u001b[0m\u001b[1;33m)\u001b[0m\u001b[1;33m.\u001b[0m\u001b[0many\u001b[0m\u001b[1;33m(\u001b[0m\u001b[1;33m)\u001b[0m\u001b[1;33m\u001b[0m\u001b[1;33m\u001b[0m\u001b[0m\n\u001b[0m",
      "\u001b[1;31mNameError\u001b[0m: name 'tagdata' is not defined"
     ]
    }
   ],
   "source": [
    "tagdata.isnull().any()"
   ]
  },
  {
   "cell_type": "markdown",
   "metadata": {
    "colab_type": "text",
    "id": "ZAv-7wWotmh_"
   },
   "source": [
    "#Optional: Negative Sampling set\n",
    "## Can optimize for faster generation \n",
    "\n",
    "**(Check out V.1.1 below)**"
   ]
  },
  {
   "cell_type": "code",
   "execution_count": 0,
   "metadata": {
    "colab": {},
    "colab_type": "code",
    "id": "u4JVBgrKthpB"
   },
   "outputs": [],
   "source": [
    "#This is a slow version. Use v.1.1 instead (below)\n",
    "# import random\n",
    "# def neg_sampling(ratings):\n",
    "#   \"\"\"version 1.0\n",
    "#     input rating data: u|m|r\n",
    "#     return negative sampled set: 1 positive 2 neg (3 time bigger than the original dataset)\n",
    "#   \"\"\"\n",
    "#   users = ratings['userId'].drop_duplicates() #get list uid\n",
    "#   movies = ratings['movieId'].drop_duplicates() #get list mid\n",
    "#   nsamples = ratings[['userId', 'movieId']]\n",
    "#   # nsamplesdict = {[u, i]: r for row in ratings}\n",
    "#   nsamples['interact'] = nsamples.apply(lambda row: 1, axis=1)\n",
    "\n",
    "#   for i, row in ratings.iterrows():\n",
    "#     if(i%1000==0):\n",
    "#       print(\"processed ... {}% ...\".format(float(i) * 100 / len(ratings)))\n",
    "#     u=row['userId']\n",
    "#     j = 2\n",
    "#     while j > 0:\n",
    "#       m= movies.sample(n=1).values[0] #get random movie id\n",
    "#       # insert 2 negative samples if u-m not exist \n",
    "#       if(not ((nsamples['userId']==u) & (nsamples['movieId']==m)).any()):\n",
    "#           j -= 1\n",
    "#           nsamples.loc[len(nsamples)] = [u, m, -1]\n",
    "#     #print(nsamples.tail(3))\n",
    "          \n",
    "#   return nsamples"
   ]
  },
  {
   "cell_type": "markdown",
   "metadata": {
    "colab_type": "text",
    "id": "7N1qsv62RdJt"
   },
   "source": [
    "## Negative Sampling V1.1 (faster)"
   ]
  },
  {
   "cell_type": "code",
   "execution_count": 16,
   "metadata": {
    "colab": {},
    "colab_type": "code",
    "id": "HYxI9uKCQ9Gl"
   },
   "outputs": [],
   "source": [
    "#Version 1.1\n",
    "import random\n",
    "import time\n",
    "\n",
    "def neg_sampling(ratings):\n",
    "  \"\"\"version 1.1:1 positive 2 neg (3 times bigger than the original dataset)\n",
    "\n",
    "    Parameters:\n",
    "    input rating data as pandas dataframe: userId|movieId|rating\n",
    "\n",
    "    Returns:\n",
    "    negative sampled set as pandas dataframe\n",
    "            userId|movieId|interact (implicit)\n",
    "  \"\"\"\n",
    "  users = ratings['userId'].drop_duplicates() #get list uid\n",
    "  movies = ratings['movieId'].drop_duplicates() #get list mid\n",
    "  nsamples = ratings[['userId', 'movieId', 'timestamp']]\n",
    "  nsamples['interact'] = nsamples.apply(lambda row: 1, axis=1)\n",
    "  nTempData = []\n",
    "  start_time = time.time()\n",
    "  stop_time = time.time()\n",
    "  for i, row in ratings.iterrows():\n",
    "    if(i%5000==0):\n",
    "      stop_time = time.time()\n",
    "      print(\"processed ... {0:0.2f}% ...{1:0.2f}secs\".format(float(i)*100 / len(ratings), stop_time - start_time))\n",
    "      start_time = stop_time\n",
    "    u=row['userId']\n",
    "    j = 2\n",
    "    while j > 0:\n",
    "      m= movies.sample(n=1).values[0] #get random movie id\n",
    "      # insert 2 negative samples if u-m not exist \n",
    "      if(not ((nsamples['userId']==u) & (nsamples['movieId']==m)).any()):\n",
    "          j -= 1\n",
    "          nTempData.append([u, m, int(time.time()), -1])\n",
    "\n",
    "  ntempdf =  pd.DataFrame(data=nTempData, columns=['userId', 'movieId', 'timestamp', 'interact' ])      \n",
    "  nsamples = pd.concat([nsamples, ntempdf],ignore_index=True) \n",
    "  return nsamples"
   ]
  },
  {
   "cell_type": "code",
   "execution_count": 21,
   "metadata": {
    "colab": {
     "base_uri": "https://localhost:8080/",
     "height": 504
    },
    "colab_type": "code",
    "id": "oYrEe00nRagv",
    "outputId": "8fe128d7-48f3-469c-9496-d0f9d1564b40"
   },
   "outputs": [
    {
     "name": "stdout",
     "output_type": "stream",
     "text": [
      "processed ... 0.00% ...0.00secs\n",
      "processed ... 5.00% ...19.34secs\n",
      "processed ... 10.00% ...18.96secs\n",
      "processed ... 15.00% ...19.38secs\n",
      "processed ... 20.00% ...19.27secs\n",
      "processed ... 25.00% ...20.23secs\n",
      "processed ... 30.00% ...20.11secs\n",
      "processed ... 35.00% ...19.82secs\n",
      "processed ... 40.00% ...19.17secs\n",
      "processed ... 45.00% ...21.61secs\n",
      "processed ... 50.00% ...21.25secs\n",
      "processed ... 55.00% ...19.32secs\n",
      "processed ... 60.00% ...20.57secs\n",
      "processed ... 65.00% ...20.44secs\n",
      "processed ... 70.00% ...19.62secs\n",
      "processed ... 75.00% ...19.60secs\n",
      "processed ... 80.00% ...19.63secs\n",
      "processed ... 85.00% ...20.17secs\n",
      "processed ... 90.00% ...20.61secs\n",
      "processed ... 95.00% ...18.97secs\n",
      "done:  (300000, 4)\n"
     ]
    }
   ],
   "source": [
    "#get negative samples to ns var. Later can save it to train/test/. The generation data is quite slow at version 1.\n",
    "ns = neg_sampling(rdata)\n",
    "print(\"done: \", ns.shape)"
   ]
  },
  {
   "cell_type": "code",
   "execution_count": 23,
   "metadata": {
    "colab": {
     "base_uri": "https://localhost:8080/",
     "height": 204
    },
    "colab_type": "code",
    "id": "-JP7yg_3Uu01",
    "outputId": "ebab63f5-4e73-4736-9814-f69fbe2953e7"
   },
   "outputs": [
    {
     "data": {
      "text/html": [
       "<div>\n",
       "<style scoped>\n",
       "    .dataframe tbody tr th:only-of-type {\n",
       "        vertical-align: middle;\n",
       "    }\n",
       "\n",
       "    .dataframe tbody tr th {\n",
       "        vertical-align: top;\n",
       "    }\n",
       "\n",
       "    .dataframe thead th {\n",
       "        text-align: right;\n",
       "    }\n",
       "</style>\n",
       "<table border=\"1\" class=\"dataframe\">\n",
       "  <thead>\n",
       "    <tr style=\"text-align: right;\">\n",
       "      <th></th>\n",
       "      <th>userId</th>\n",
       "      <th>movieId</th>\n",
       "      <th>timestamp</th>\n",
       "      <th>interact</th>\n",
       "    </tr>\n",
       "  </thead>\n",
       "  <tbody>\n",
       "    <tr>\n",
       "      <th>299995</th>\n",
       "      <td>276</td>\n",
       "      <td>441</td>\n",
       "      <td>1582191388</td>\n",
       "      <td>-1</td>\n",
       "    </tr>\n",
       "    <tr>\n",
       "      <th>299996</th>\n",
       "      <td>13</td>\n",
       "      <td>1664</td>\n",
       "      <td>1582191388</td>\n",
       "      <td>-1</td>\n",
       "    </tr>\n",
       "    <tr>\n",
       "      <th>299997</th>\n",
       "      <td>13</td>\n",
       "      <td>1582</td>\n",
       "      <td>1582191388</td>\n",
       "      <td>-1</td>\n",
       "    </tr>\n",
       "    <tr>\n",
       "      <th>299998</th>\n",
       "      <td>12</td>\n",
       "      <td>457</td>\n",
       "      <td>1582191388</td>\n",
       "      <td>-1</td>\n",
       "    </tr>\n",
       "    <tr>\n",
       "      <th>299999</th>\n",
       "      <td>12</td>\n",
       "      <td>130</td>\n",
       "      <td>1582191388</td>\n",
       "      <td>-1</td>\n",
       "    </tr>\n",
       "  </tbody>\n",
       "</table>\n",
       "</div>"
      ],
      "text/plain": [
       "        userId  movieId   timestamp  interact\n",
       "299995     276      441  1582191388        -1\n",
       "299996      13     1664  1582191388        -1\n",
       "299997      13     1582  1582191388        -1\n",
       "299998      12      457  1582191388        -1\n",
       "299999      12      130  1582191388        -1"
      ]
     },
     "execution_count": 23,
     "metadata": {},
     "output_type": "execute_result"
    }
   ],
   "source": [
    "ns.tail(5)\n"
   ]
  },
  {
   "cell_type": "code",
   "execution_count": 24,
   "metadata": {},
   "outputs": [],
   "source": [
    "ns_2 =  pd.DataFrame(data=ns, columns=['userId', 'movieId', 'interact', 'timestamp' ])      "
   ]
  },
  {
   "cell_type": "code",
   "execution_count": 25,
   "metadata": {},
   "outputs": [
    {
     "data": {
      "text/html": [
       "<div>\n",
       "<style scoped>\n",
       "    .dataframe tbody tr th:only-of-type {\n",
       "        vertical-align: middle;\n",
       "    }\n",
       "\n",
       "    .dataframe tbody tr th {\n",
       "        vertical-align: top;\n",
       "    }\n",
       "\n",
       "    .dataframe thead th {\n",
       "        text-align: right;\n",
       "    }\n",
       "</style>\n",
       "<table border=\"1\" class=\"dataframe\">\n",
       "  <thead>\n",
       "    <tr style=\"text-align: right;\">\n",
       "      <th></th>\n",
       "      <th>userId</th>\n",
       "      <th>movieId</th>\n",
       "      <th>interact</th>\n",
       "      <th>timestamp</th>\n",
       "    </tr>\n",
       "  </thead>\n",
       "  <tbody>\n",
       "    <tr>\n",
       "      <th>299995</th>\n",
       "      <td>276</td>\n",
       "      <td>441</td>\n",
       "      <td>-1</td>\n",
       "      <td>1582191388</td>\n",
       "    </tr>\n",
       "    <tr>\n",
       "      <th>299996</th>\n",
       "      <td>13</td>\n",
       "      <td>1664</td>\n",
       "      <td>-1</td>\n",
       "      <td>1582191388</td>\n",
       "    </tr>\n",
       "    <tr>\n",
       "      <th>299997</th>\n",
       "      <td>13</td>\n",
       "      <td>1582</td>\n",
       "      <td>-1</td>\n",
       "      <td>1582191388</td>\n",
       "    </tr>\n",
       "    <tr>\n",
       "      <th>299998</th>\n",
       "      <td>12</td>\n",
       "      <td>457</td>\n",
       "      <td>-1</td>\n",
       "      <td>1582191388</td>\n",
       "    </tr>\n",
       "    <tr>\n",
       "      <th>299999</th>\n",
       "      <td>12</td>\n",
       "      <td>130</td>\n",
       "      <td>-1</td>\n",
       "      <td>1582191388</td>\n",
       "    </tr>\n",
       "  </tbody>\n",
       "</table>\n",
       "</div>"
      ],
      "text/plain": [
       "        userId  movieId  interact   timestamp\n",
       "299995     276      441        -1  1582191388\n",
       "299996      13     1664        -1  1582191388\n",
       "299997      13     1582        -1  1582191388\n",
       "299998      12      457        -1  1582191388\n",
       "299999      12      130        -1  1582191388"
      ]
     },
     "execution_count": 25,
     "metadata": {},
     "output_type": "execute_result"
    }
   ],
   "source": [
    "ns_2.tail(5)"
   ]
  },
  {
   "cell_type": "code",
   "execution_count": 43,
   "metadata": {},
   "outputs": [
    {
     "data": {
      "text/html": [
       "<div>\n",
       "<style scoped>\n",
       "    .dataframe tbody tr th:only-of-type {\n",
       "        vertical-align: middle;\n",
       "    }\n",
       "\n",
       "    .dataframe tbody tr th {\n",
       "        vertical-align: top;\n",
       "    }\n",
       "\n",
       "    .dataframe thead th {\n",
       "        text-align: right;\n",
       "    }\n",
       "</style>\n",
       "<table border=\"1\" class=\"dataframe\">\n",
       "  <thead>\n",
       "    <tr style=\"text-align: right;\">\n",
       "      <th></th>\n",
       "      <th>userId</th>\n",
       "      <th>movieId</th>\n",
       "      <th>rating</th>\n",
       "      <th>timestamp</th>\n",
       "    </tr>\n",
       "  </thead>\n",
       "  <tbody>\n",
       "    <tr>\n",
       "      <th>0</th>\n",
       "      <td>196</td>\n",
       "      <td>242</td>\n",
       "      <td>3</td>\n",
       "      <td>881250949</td>\n",
       "    </tr>\n",
       "    <tr>\n",
       "      <th>1</th>\n",
       "      <td>186</td>\n",
       "      <td>302</td>\n",
       "      <td>3</td>\n",
       "      <td>891717742</td>\n",
       "    </tr>\n",
       "    <tr>\n",
       "      <th>2</th>\n",
       "      <td>22</td>\n",
       "      <td>377</td>\n",
       "      <td>1</td>\n",
       "      <td>878887116</td>\n",
       "    </tr>\n",
       "    <tr>\n",
       "      <th>3</th>\n",
       "      <td>244</td>\n",
       "      <td>51</td>\n",
       "      <td>2</td>\n",
       "      <td>880606923</td>\n",
       "    </tr>\n",
       "    <tr>\n",
       "      <th>4</th>\n",
       "      <td>166</td>\n",
       "      <td>346</td>\n",
       "      <td>1</td>\n",
       "      <td>886397596</td>\n",
       "    </tr>\n",
       "  </tbody>\n",
       "</table>\n",
       "</div>"
      ],
      "text/plain": [
       "   userId  movieId  rating  timestamp\n",
       "0     196      242       3  881250949\n",
       "1     186      302       3  891717742\n",
       "2      22      377       1  878887116\n",
       "3     244       51       2  880606923\n",
       "4     166      346       1  886397596"
      ]
     },
     "execution_count": 43,
     "metadata": {},
     "output_type": "execute_result"
    }
   ],
   "source": [
    "# Check the train set\n",
    "implicit_rating=rdata[['userId', 'movieId', 'rating','timestamp']]\n",
    "implicit_rating.head()"
   ]
  },
  {
   "cell_type": "code",
   "execution_count": 44,
   "metadata": {},
   "outputs": [],
   "source": [
    "implicit_rating['interact']= 1"
   ]
  },
  {
   "cell_type": "code",
   "execution_count": 45,
   "metadata": {},
   "outputs": [
    {
     "data": {
      "text/html": [
       "<div>\n",
       "<style scoped>\n",
       "    .dataframe tbody tr th:only-of-type {\n",
       "        vertical-align: middle;\n",
       "    }\n",
       "\n",
       "    .dataframe tbody tr th {\n",
       "        vertical-align: top;\n",
       "    }\n",
       "\n",
       "    .dataframe thead th {\n",
       "        text-align: right;\n",
       "    }\n",
       "</style>\n",
       "<table border=\"1\" class=\"dataframe\">\n",
       "  <thead>\n",
       "    <tr style=\"text-align: right;\">\n",
       "      <th></th>\n",
       "      <th>userId</th>\n",
       "      <th>movieId</th>\n",
       "      <th>rating</th>\n",
       "      <th>timestamp</th>\n",
       "      <th>interact</th>\n",
       "    </tr>\n",
       "  </thead>\n",
       "  <tbody>\n",
       "    <tr>\n",
       "      <th>0</th>\n",
       "      <td>196</td>\n",
       "      <td>242</td>\n",
       "      <td>3</td>\n",
       "      <td>881250949</td>\n",
       "      <td>1</td>\n",
       "    </tr>\n",
       "    <tr>\n",
       "      <th>1</th>\n",
       "      <td>186</td>\n",
       "      <td>302</td>\n",
       "      <td>3</td>\n",
       "      <td>891717742</td>\n",
       "      <td>1</td>\n",
       "    </tr>\n",
       "    <tr>\n",
       "      <th>2</th>\n",
       "      <td>22</td>\n",
       "      <td>377</td>\n",
       "      <td>1</td>\n",
       "      <td>878887116</td>\n",
       "      <td>1</td>\n",
       "    </tr>\n",
       "    <tr>\n",
       "      <th>3</th>\n",
       "      <td>244</td>\n",
       "      <td>51</td>\n",
       "      <td>2</td>\n",
       "      <td>880606923</td>\n",
       "      <td>1</td>\n",
       "    </tr>\n",
       "    <tr>\n",
       "      <th>4</th>\n",
       "      <td>166</td>\n",
       "      <td>346</td>\n",
       "      <td>1</td>\n",
       "      <td>886397596</td>\n",
       "      <td>1</td>\n",
       "    </tr>\n",
       "  </tbody>\n",
       "</table>\n",
       "</div>"
      ],
      "text/plain": [
       "   userId  movieId  rating  timestamp  interact\n",
       "0     196      242       3  881250949         1\n",
       "1     186      302       3  891717742         1\n",
       "2      22      377       1  878887116         1\n",
       "3     244       51       2  880606923         1\n",
       "4     166      346       1  886397596         1"
      ]
     },
     "execution_count": 45,
     "metadata": {},
     "output_type": "execute_result"
    }
   ],
   "source": [
    "implicit_rating.head()"
   ]
  },
  {
   "cell_type": "code",
   "execution_count": 46,
   "metadata": {},
   "outputs": [],
   "source": [
    "implicit_rating=pd.DataFrame(data=implicit_rating, columns=['userId', 'movieId', 'interact','timestamp'])"
   ]
  },
  {
   "cell_type": "code",
   "execution_count": 47,
   "metadata": {},
   "outputs": [
    {
     "data": {
      "text/html": [
       "<div>\n",
       "<style scoped>\n",
       "    .dataframe tbody tr th:only-of-type {\n",
       "        vertical-align: middle;\n",
       "    }\n",
       "\n",
       "    .dataframe tbody tr th {\n",
       "        vertical-align: top;\n",
       "    }\n",
       "\n",
       "    .dataframe thead th {\n",
       "        text-align: right;\n",
       "    }\n",
       "</style>\n",
       "<table border=\"1\" class=\"dataframe\">\n",
       "  <thead>\n",
       "    <tr style=\"text-align: right;\">\n",
       "      <th></th>\n",
       "      <th>userId</th>\n",
       "      <th>movieId</th>\n",
       "      <th>interact</th>\n",
       "      <th>timestamp</th>\n",
       "    </tr>\n",
       "  </thead>\n",
       "  <tbody>\n",
       "    <tr>\n",
       "      <th>0</th>\n",
       "      <td>196</td>\n",
       "      <td>242</td>\n",
       "      <td>1</td>\n",
       "      <td>881250949</td>\n",
       "    </tr>\n",
       "    <tr>\n",
       "      <th>1</th>\n",
       "      <td>186</td>\n",
       "      <td>302</td>\n",
       "      <td>1</td>\n",
       "      <td>891717742</td>\n",
       "    </tr>\n",
       "    <tr>\n",
       "      <th>2</th>\n",
       "      <td>22</td>\n",
       "      <td>377</td>\n",
       "      <td>1</td>\n",
       "      <td>878887116</td>\n",
       "    </tr>\n",
       "    <tr>\n",
       "      <th>3</th>\n",
       "      <td>244</td>\n",
       "      <td>51</td>\n",
       "      <td>1</td>\n",
       "      <td>880606923</td>\n",
       "    </tr>\n",
       "    <tr>\n",
       "      <th>4</th>\n",
       "      <td>166</td>\n",
       "      <td>346</td>\n",
       "      <td>1</td>\n",
       "      <td>886397596</td>\n",
       "    </tr>\n",
       "  </tbody>\n",
       "</table>\n",
       "</div>"
      ],
      "text/plain": [
       "   userId  movieId  interact  timestamp\n",
       "0     196      242         1  881250949\n",
       "1     186      302         1  891717742\n",
       "2      22      377         1  878887116\n",
       "3     244       51         1  880606923\n",
       "4     166      346         1  886397596"
      ]
     },
     "execution_count": 47,
     "metadata": {},
     "output_type": "execute_result"
    }
   ],
   "source": [
    "implicit_rating.head()"
   ]
  },
  {
   "cell_type": "code",
   "execution_count": 48,
   "metadata": {},
   "outputs": [],
   "source": [
    "pd.DataFrame(implicit_rating).to_csv('implicit_rating.csv',encoding='utf-8', index=False, header=False)"
   ]
  },
  {
   "cell_type": "code",
   "execution_count": 50,
   "metadata": {
    "scrolled": true
   },
   "outputs": [],
   "source": [
    "ml100k_ns=pd.concat([ns_2,implicit_rating])"
   ]
  },
  {
   "cell_type": "code",
   "execution_count": 52,
   "metadata": {},
   "outputs": [
    {
     "data": {
      "text/html": [
       "<div>\n",
       "<style scoped>\n",
       "    .dataframe tbody tr th:only-of-type {\n",
       "        vertical-align: middle;\n",
       "    }\n",
       "\n",
       "    .dataframe tbody tr th {\n",
       "        vertical-align: top;\n",
       "    }\n",
       "\n",
       "    .dataframe thead th {\n",
       "        text-align: right;\n",
       "    }\n",
       "</style>\n",
       "<table border=\"1\" class=\"dataframe\">\n",
       "  <thead>\n",
       "    <tr style=\"text-align: right;\">\n",
       "      <th></th>\n",
       "      <th>userId</th>\n",
       "      <th>movieId</th>\n",
       "      <th>interact</th>\n",
       "      <th>timestamp</th>\n",
       "    </tr>\n",
       "  </thead>\n",
       "  <tbody>\n",
       "    <tr>\n",
       "      <th>0</th>\n",
       "      <td>196</td>\n",
       "      <td>242</td>\n",
       "      <td>1</td>\n",
       "      <td>881250949</td>\n",
       "    </tr>\n",
       "    <tr>\n",
       "      <th>1</th>\n",
       "      <td>186</td>\n",
       "      <td>302</td>\n",
       "      <td>1</td>\n",
       "      <td>891717742</td>\n",
       "    </tr>\n",
       "    <tr>\n",
       "      <th>2</th>\n",
       "      <td>22</td>\n",
       "      <td>377</td>\n",
       "      <td>1</td>\n",
       "      <td>878887116</td>\n",
       "    </tr>\n",
       "    <tr>\n",
       "      <th>3</th>\n",
       "      <td>244</td>\n",
       "      <td>51</td>\n",
       "      <td>1</td>\n",
       "      <td>880606923</td>\n",
       "    </tr>\n",
       "    <tr>\n",
       "      <th>4</th>\n",
       "      <td>166</td>\n",
       "      <td>346</td>\n",
       "      <td>1</td>\n",
       "      <td>886397596</td>\n",
       "    </tr>\n",
       "  </tbody>\n",
       "</table>\n",
       "</div>"
      ],
      "text/plain": [
       "   userId  movieId  interact  timestamp\n",
       "0     196      242         1  881250949\n",
       "1     186      302         1  891717742\n",
       "2      22      377         1  878887116\n",
       "3     244       51         1  880606923\n",
       "4     166      346         1  886397596"
      ]
     },
     "execution_count": 52,
     "metadata": {},
     "output_type": "execute_result"
    }
   ],
   "source": [
    "ml100k_ns.head()"
   ]
  },
  {
   "cell_type": "code",
   "execution_count": 54,
   "metadata": {},
   "outputs": [],
   "source": [
    "ml100k_ns.to_csv('ml100k_ns.csv',encoding='utf-8', index=False, header=False)\n",
    "#invo_tbl.to_csv(data_path+'invocation_data_2.csv', encoding='utf-8', index=False, header=False)\n"
   ]
  },
  {
   "cell_type": "code",
   "execution_count": 55,
   "metadata": {},
   "outputs": [],
   "source": [
    "implicit_rating.to_csv('implicit_rating.csv',encoding='utf-8', index=False, header=False)"
   ]
  },
  {
   "cell_type": "markdown",
   "metadata": {
    "colab_type": "text",
    "id": "NCh697jbaX1c"
   },
   "source": [
    "## Create train test eval sets for ORIGINAL RATINGS only!!!\n",
    "\n",
    "In ml100k, there are some train/test sets avaiables"
   ]
  },
  {
   "cell_type": "code",
   "execution_count": 0,
   "metadata": {
    "cellView": "both",
    "colab": {
     "base_uri": "https://localhost:8080/",
     "height": 34
    },
    "colab_type": "code",
    "id": "U-U9Qe_2bDBA",
    "outputId": "db45a06a-cfca-4f98-841e-89e71ad9b425"
   },
   "outputs": [
    {
     "name": "stdout",
     "output_type": "stream",
     "text": [
      "(51200, 3) (16000, 3) (12800, 3)\n"
     ]
    }
   ],
   "source": [
    "#From rating, drop timestamp\n",
    "\n",
    "rX_train, rX_test = train_test_split(rdata[['userId', 'movieId', 'rating']], test_size=0.2, random_state = 101)\n",
    "rX_train, rX_val = train_test_split(rX_train, test_size=0.2, random_state= 101)\n",
    "print(rX_train.shape, rX_test.shape, rX_val.shape)"
   ]
  },
  {
   "cell_type": "code",
   "execution_count": 0,
   "metadata": {
    "colab": {
     "base_uri": "https://localhost:8080/",
     "height": 195
    },
    "colab_type": "code",
    "id": "TzmsH45Znyjt",
    "outputId": "5f8c52ad-1ffb-4c25-d6b6-7f829f1cf1b7"
   },
   "outputs": [
    {
     "data": {
      "text/html": [
       "<div>\n",
       "<style scoped>\n",
       "    .dataframe tbody tr th:only-of-type {\n",
       "        vertical-align: middle;\n",
       "    }\n",
       "\n",
       "    .dataframe tbody tr th {\n",
       "        vertical-align: top;\n",
       "    }\n",
       "\n",
       "    .dataframe thead th {\n",
       "        text-align: right;\n",
       "    }\n",
       "</style>\n",
       "<table border=\"1\" class=\"dataframe\">\n",
       "  <thead>\n",
       "    <tr style=\"text-align: right;\">\n",
       "      <th></th>\n",
       "      <th>userId</th>\n",
       "      <th>movieId</th>\n",
       "      <th>rating</th>\n",
       "    </tr>\n",
       "  </thead>\n",
       "  <tbody>\n",
       "    <tr>\n",
       "      <th>73060</th>\n",
       "      <td>473</td>\n",
       "      <td>1895</td>\n",
       "      <td>2.0</td>\n",
       "    </tr>\n",
       "    <tr>\n",
       "      <th>63194</th>\n",
       "      <td>414</td>\n",
       "      <td>2671</td>\n",
       "      <td>4.0</td>\n",
       "    </tr>\n",
       "    <tr>\n",
       "      <th>67862</th>\n",
       "      <td>438</td>\n",
       "      <td>3968</td>\n",
       "      <td>2.5</td>\n",
       "    </tr>\n",
       "    <tr>\n",
       "      <th>25263</th>\n",
       "      <td>177</td>\n",
       "      <td>3624</td>\n",
       "      <td>3.0</td>\n",
       "    </tr>\n",
       "    <tr>\n",
       "      <th>100192</th>\n",
       "      <td>610</td>\n",
       "      <td>45210</td>\n",
       "      <td>4.0</td>\n",
       "    </tr>\n",
       "  </tbody>\n",
       "</table>\n",
       "</div>"
      ],
      "text/plain": [
       "        userId  movieId  rating\n",
       "73060      473     1895     2.0\n",
       "63194      414     2671     4.0\n",
       "67862      438     3968     2.5\n",
       "25263      177     3624     3.0\n",
       "100192     610    45210     4.0"
      ]
     },
     "execution_count": 29,
     "metadata": {
      "tags": []
     },
     "output_type": "execute_result"
    }
   ],
   "source": [
    "# Check the train set\n",
    "rX_train.head()"
   ]
  },
  {
   "cell_type": "markdown",
   "metadata": {
    "colab_type": "text",
    "id": "g61JoQ27VD2X"
   },
   "source": [
    "## Create train test eval sets for Negative sampling from RATINGS only!!!"
   ]
  },
  {
   "cell_type": "code",
   "execution_count": 0,
   "metadata": {
    "colab": {
     "base_uri": "https://localhost:8080/",
     "height": 34
    },
    "colab_type": "code",
    "id": "f6eZL0AbVBfH",
    "outputId": "bde5e780-b38b-407c-858c-bd642a6baad3"
   },
   "outputs": [
    {
     "name": "stdout",
     "output_type": "stream",
     "text": [
      "(192000, 4) (60000, 4) (48000, 4)\n"
     ]
    }
   ],
   "source": [
    "rX_train_ns, rX_test_ns = train_test_split(ns, test_size=0.2, random_state = 101)\n",
    "rX_train_ns, rX_val_ns = train_test_split(rX_train_ns, test_size=0.2, random_state= 101)\n",
    "print(rX_train_ns.shape, rX_test_ns.shape, rX_val_ns.shape)"
   ]
  },
  {
   "cell_type": "code",
   "execution_count": 0,
   "metadata": {
    "colab": {
     "base_uri": "https://localhost:8080/",
     "height": 204
    },
    "colab_type": "code",
    "id": "USZ4V3ByVhMO",
    "outputId": "47079104-2a5a-4706-9ebd-1b4dbd985177"
   },
   "outputs": [
    {
     "data": {
      "text/html": [
       "<div>\n",
       "<style scoped>\n",
       "    .dataframe tbody tr th:only-of-type {\n",
       "        vertical-align: middle;\n",
       "    }\n",
       "\n",
       "    .dataframe tbody tr th {\n",
       "        vertical-align: top;\n",
       "    }\n",
       "\n",
       "    .dataframe thead th {\n",
       "        text-align: right;\n",
       "    }\n",
       "</style>\n",
       "<table border=\"1\" class=\"dataframe\">\n",
       "  <thead>\n",
       "    <tr style=\"text-align: right;\">\n",
       "      <th></th>\n",
       "      <th>userId</th>\n",
       "      <th>movieId</th>\n",
       "      <th>interact</th>\n",
       "    </tr>\n",
       "  </thead>\n",
       "  <tbody>\n",
       "    <tr>\n",
       "      <th>89651</th>\n",
       "      <td>315</td>\n",
       "      <td>202</td>\n",
       "      <td>1</td>\n",
       "    </tr>\n",
       "    <tr>\n",
       "      <th>51626</th>\n",
       "      <td>716</td>\n",
       "      <td>238</td>\n",
       "      <td>1</td>\n",
       "    </tr>\n",
       "    <tr>\n",
       "      <th>267896</th>\n",
       "      <td>863</td>\n",
       "      <td>142</td>\n",
       "      <td>-1</td>\n",
       "    </tr>\n",
       "    <tr>\n",
       "      <th>16601</th>\n",
       "      <td>418</td>\n",
       "      <td>301</td>\n",
       "      <td>1</td>\n",
       "    </tr>\n",
       "    <tr>\n",
       "      <th>183748</th>\n",
       "      <td>203</td>\n",
       "      <td>1053</td>\n",
       "      <td>-1</td>\n",
       "    </tr>\n",
       "  </tbody>\n",
       "</table>\n",
       "</div>"
      ],
      "text/plain": [
       "        userId  movieId  interact\n",
       "89651      315      202         1\n",
       "51626      716      238         1\n",
       "267896     863      142        -1\n",
       "16601      418      301         1\n",
       "183748     203     1053        -1"
      ]
     },
     "execution_count": 13,
     "metadata": {
      "tags": []
     },
     "output_type": "execute_result"
    }
   ],
   "source": [
    "# Check the train set ns\n",
    "rX_train_ns.head()"
   ]
  },
  {
   "cell_type": "markdown",
   "metadata": {
    "colab_type": "text",
    "id": "5KSJ1vshkv7X"
   },
   "source": [
    "# Save processed train, test, eval data frame to files\n",
    "\n"
   ]
  },
  {
   "cell_type": "code",
   "execution_count": 0,
   "metadata": {
    "colab": {},
    "colab_type": "code",
    "id": "sclxLaymWLMz"
   },
   "outputs": [],
   "source": [
    "def save_to_csv(data_frames, out_file_names, outdir='./sample_data/processed/'):\n",
    "  if not os.path.exists(outdir):\n",
    "    os.mkdir(outdir)\n",
    "  assert len(data_frames)==len(out_file_names), \"number of dataframes must equal number of file names\"\n",
    "  for i in range(len(out_file_names)):\n",
    "    data_frames[i].to_csv(outdir+out_file_names[i], header=None, index=False)"
   ]
  },
  {
   "cell_type": "code",
   "execution_count": 0,
   "metadata": {
    "colab": {},
    "colab_type": "code",
    "id": "_N2801twk8xV"
   },
   "outputs": [],
   "source": [
    "#Train, test, validation of original data as CSV\n",
    "save_to_csv([rX_train, rX_test, rX_val], ['rX_train.csv', 'rX_test.csv', 'rx_val.csv'] )"
   ]
  },
  {
   "cell_type": "markdown",
   "metadata": {
    "colab_type": "text",
    "id": "zqRiUqdXV-SS"
   },
   "source": [
    "##Train, test, validation of neg_sampling data as CSV"
   ]
  },
  {
   "cell_type": "code",
   "execution_count": 0,
   "metadata": {
    "colab": {},
    "colab_type": "code",
    "id": "gLEe9i8qWFIj"
   },
   "outputs": [],
   "source": [
    "save_to_csv([rX_train_ns, rX_test_ns, rX_val_ns], ['rX_train_ns.csv', 'rX_test_ns.csv', 'rX_val_ns.csv'] )"
   ]
  },
  {
   "cell_type": "markdown",
   "metadata": {
    "colab_type": "text",
    "id": "ob0EShAzImJ5"
   },
   "source": [
    "# Transform train, test, eval to libfm, svmlight, libsvm format as *.libfm"
   ]
  },
  {
   "cell_type": "code",
   "execution_count": 0,
   "metadata": {
    "colab": {},
    "colab_type": "code",
    "id": "rH5ujI3UajI2"
   },
   "outputs": [],
   "source": [
    "def save_to_libfm(data_frames, out_file_names, target='rating', outdir='./sample_data/processed/'):\n",
    "  if not os.path.exists(outdir):\n",
    "    os.mkdir(outdir)\n",
    "  assert len(data_frames)==len(out_file_names), \"number of dataframes must equal number of file names\"\n",
    "  for i in range(len(out_file_names)):\n",
    "    dump_svmlight_file(data_frames[i][['userId', 'movieId', 'timestamp']],data_frames[i][[target]].values.ravel(), outdir+out_file_names[i],zero_based=True,multilabel=False)"
   ]
  },
  {
   "cell_type": "code",
   "execution_count": 0,
   "metadata": {
    "colab": {},
    "colab_type": "code",
    "id": "P2-wXirmGyw3"
   },
   "outputs": [],
   "source": [
    "#orginal data\n",
    "save_to_libfm([rX_train, rX_test, rX_val], ['rX_train.libfm', 'rX_test.libfm', 'rx_val.libfm'])"
   ]
  },
  {
   "cell_type": "code",
   "execution_count": 0,
   "metadata": {
    "colab": {},
    "colab_type": "code",
    "id": "jRN6rSSxabCr"
   },
   "outputs": [],
   "source": [
    "#negative sampled data\n",
    "save_to_libfm([rX_train_ns, rX_test_ns, rX_val_ns], ['rX_train_ns.libfm', 'rX_test_ns.libfm', 'rx_val_ns.libfm'], target='interact')"
   ]
  },
  {
   "cell_type": "markdown",
   "metadata": {
    "colab_type": "text",
    "id": "W74vcBH-0Jus"
   },
   "source": [
    "## Zip processed folder and download to local drive"
   ]
  },
  {
   "cell_type": "code",
   "execution_count": 0,
   "metadata": {
    "colab": {
     "base_uri": "https://localhost:8080/",
     "height": 34
    },
    "colab_type": "code",
    "id": "AmrH6zCy0Swq",
    "outputId": "7bb12f63-6b6c-4e52-9ce4-00ac4237356a"
   },
   "outputs": [
    {
     "data": {
      "text/plain": [
       "'/content/ml_processed.zip'"
      ]
     },
     "execution_count": 32,
     "metadata": {
      "tags": []
     },
     "output_type": "execute_result"
    }
   ],
   "source": [
    "import shutil\n",
    "zipFileName = 'ml_processed'\n",
    "shutil.make_archive(zipFileName, 'zip', outdir)"
   ]
  },
  {
   "cell_type": "code",
   "execution_count": 0,
   "metadata": {
    "colab": {},
    "colab_type": "code",
    "id": "j1QPM8Ty04UE"
   },
   "outputs": [],
   "source": [
    "#download file to local system\n",
    "from google.colab import files\n",
    "files.download(zipFileName+'.zip')"
   ]
  },
  {
   "cell_type": "markdown",
   "metadata": {
    "colab_type": "text",
    "id": "kI0pG-BA44Zo"
   },
   "source": [
    "#Or save to GG drive\n",
    "\n",
    "path =./ in drive"
   ]
  },
  {
   "cell_type": "code",
   "execution_count": 0,
   "metadata": {
    "colab": {},
    "colab_type": "code",
    "id": "FAqtWXc21vZV"
   },
   "outputs": [],
   "source": [
    "# Import PyDrive and associated libraries.\n",
    "# This only needs to be done once in a notebook.\n",
    "from pydrive.auth import GoogleAuth\n",
    "from pydrive.drive import GoogleDrive\n",
    "from google.colab import auth\n",
    "from oauth2client.client import GoogleCredentials\n",
    "\n",
    "# Authenticate and create the PyDrive client.\n",
    "# This only needs to be done once in a notebook.\n",
    "auth.authenticate_user()\n",
    "gauth = GoogleAuth()\n",
    "gauth.credentials = GoogleCredentials.get_application_default()\n",
    "drive = GoogleDrive(gauth)\n",
    "\n",
    "# Create & upload a text file.\n",
    "uploaded = drive.CreateFile({'title': zipFileName+'.zip'})\n",
    "uploaded.SetContentFile(zipFileName+'.zip')\n",
    "uploaded.Upload()\n",
    "print('Uploaded file with ID {}'.format(uploaded.get('id')))"
   ]
  },
  {
   "cell_type": "markdown",
   "metadata": {
    "colab_type": "text",
    "id": "b3XjyeczekAc"
   },
   "source": [
    "##References\n",
    "\n",
    "Libfm applicatons: https://support.sas.com/resources/papers/proceedings17/SAS0388-2017.pdf\n",
    "\n",
    "Analysis ML: https://www.kaggle.com/jneupane12/analysis-of-movielens-dataset-beginner-sanalysis\n",
    "\n",
    "LibSVM: https://www.csie.ntu.edu.tw/~cjlin/libsvm/faq.html#f402\n",
    "\n",
    ": How do I get the decision value(s)?\n",
    "\n",
    "We print out decision values for regression. For classification, we solve several binary SVMs for multi-class cases. You can obtain values by easily calling the subroutine svm_predict_values. Their corresponding labels can be obtained from svm_get_labels. Details are in README of libsvm package.\n",
    "\n",
    "If you are using MATLAB/OCTAVE interface, svmpredict can directly give you decision values. Please see matlab/README for details.\n",
    "\n",
    "We do not recommend the following. **But if you would like to get values for TWO-class classification with labels +1 and -1 (note: +1 and -1 but not things like 5 and 10) in the easiest way, simply add** \n",
    "\n",
    "\t\tprintf(\"%f\\n\", dec_values[0]*model->label[0]);\n",
    "after the line\n",
    "\t\tsvm_predict_values(model, x, dec_values);\n",
    "of the file svm.cpp. Positive (negative) decision values correspond to data predicted as +1 (-1).\n",
    "\n",
    "### Example\n",
    "df = pd.DataFrame()\n",
    "df['Id'] = np.arange(10)\n",
    "df['F1'] = np.random.rand(10,)\n",
    "df['F2'] = np.random.rand(10,)\n",
    "df['Target'] = list(map(lambda x: -1 if x < 0.5 else 1, np.random.rand(10,)))\n",
    "\n",
    "X = df[np.setdiff1d(df.columns,['Id','Target'])]\n",
    "y = df.Target\n",
    "\n",
    "print(df)\n"
   ]
  }
 ],
 "metadata": {
  "accelerator": "TPU",
  "colab": {
   "collapsed_sections": [],
   "name": "Mo-MovieLens-Load and process",
   "provenance": [],
   "toc_visible": true
  },
  "kernelspec": {
   "display_name": "Python 3",
   "language": "python",
   "name": "python3"
  },
  "language_info": {
   "codemirror_mode": {
    "name": "ipython",
    "version": 3
   },
   "file_extension": ".py",
   "mimetype": "text/x-python",
   "name": "python",
   "nbconvert_exporter": "python",
   "pygments_lexer": "ipython3",
   "version": "3.7.3"
  }
 },
 "nbformat": 4,
 "nbformat_minor": 1
}
